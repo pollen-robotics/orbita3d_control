{
 "cells": [
  {
   "cell_type": "markdown",
   "metadata": {},
   "source": [
    "# Orbita3d Controller API example\n",
    "\n",
    "## Installation\n",
    "\n",
    "The easiest way to install the Orbita3d Controller API is via the `maturin develop` command from the `orbita3d_c_api` folder.\n",
    "\n",
    "Please refer to [their documentation](https://www.maturin.rs/) for more information.\n"
   ]
  },
  {
   "cell_type": "markdown",
   "metadata": {},
   "source": [
    "To check the install, simply run the following cell:"
   ]
  },
  {
   "cell_type": "code",
   "execution_count": 1,
   "metadata": {},
   "outputs": [],
   "source": [
    "from orbita3d import Orbita3dController"
   ]
  },
  {
   "cell_type": "markdown",
   "metadata": {},
   "source": [
    "You can create a new controller using the from_config method.\n",
    "\n",
    "Configuration examples can be found in [the orbita3d_controller pacakge](https://github.com/pollen-robotics/orbita3d_control/tree/develop/orbita3d_controller/config)."
   ]
  },
  {
   "cell_type": "code",
   "execution_count": 2,
   "metadata": {},
   "outputs": [
    {
     "name": "stderr",
     "output_type": "stream",
     "text": [
      "\u001b[90m[\u001b[0m2025-02-03T16:51:34Z \u001b[1m\u001b[31mERROR\u001b[0m poulpe_ethercat_grpc::client\u001b[90m]\u001b[0m No state found for slave 0\n"
     ]
    }
   ],
   "source": [
    "# Replace the path with the path to your config file\n",
    "config = \"../../orbita3d_controller/config/ethercat_poulpe.yaml\"\n",
    "\n",
    "orbita3d_controller = Orbita3dController.from_config(config)"
   ]
  },
  {
   "cell_type": "markdown",
   "metadata": {},
   "source": [
    "## Control your Orbita3d\n",
    "\n",
    "### Enable/disable the torque\n",
    "\n",
    "You can enable the torque using the `enable_torque` method. It also takes a `reset_target` argument that will reset the target position to the current position."
   ]
  },
  {
   "cell_type": "code",
   "execution_count": 3,
   "metadata": {},
   "outputs": [],
   "source": [
    "orbita3d_controller.enable_torque(reset_target=True)"
   ]
  },
  {
   "cell_type": "markdown",
   "metadata": {},
   "source": [
    "You can now check that the torque was enabled by calling the `is_torque_on` method."
   ]
  },
  {
   "cell_type": "code",
   "execution_count": 4,
   "metadata": {},
   "outputs": [
    {
     "data": {
      "text/plain": [
       "True"
      ]
     },
     "execution_count": 4,
     "metadata": {},
     "output_type": "execute_result"
    }
   ],
   "source": [
    "orbita3d_controller.is_torque_on()"
   ]
  },
  {
   "cell_type": "markdown",
   "metadata": {},
   "source": [
    "And now, you can disable the torque using the `disable_torque` method."
   ]
  },
  {
   "cell_type": "code",
   "execution_count": 5,
   "metadata": {},
   "outputs": [],
   "source": [
    "orbita3d_controller.disable_torque()"
   ]
  },
  {
   "cell_type": "markdown",
   "metadata": {},
   "source": [
    "Let's check that the torque is off."
   ]
  },
  {
   "cell_type": "code",
   "execution_count": 6,
   "metadata": {},
   "outputs": [
    {
     "data": {
      "text/plain": [
       "False"
      ]
     },
     "execution_count": 6,
     "metadata": {},
     "output_type": "execute_result"
    }
   ],
   "source": [
    "orbita3d_controller.is_torque_on()"
   ]
  },
  {
   "cell_type": "markdown",
   "metadata": {},
   "source": [
    "### Read and set orientation\n",
    "\n",
    "To read the current orientation, you can use the `get_current_orientation` method. It returns a quaternion (qx, qy, qz, qw).\n",
    "\n",
    "_Note that you can use the [Rotation](https://docs.scipy.org/doc/scipy/reference/generated/scipy.spatial.transform.Rotation.html) module from the scipy library to convert the quaternion to a rotation matrix or euler angles._"
   ]
  },
  {
   "cell_type": "code",
   "execution_count": 7,
   "metadata": {},
   "outputs": [
    {
     "data": {
      "text/plain": [
       "(0.04078224372829964,\n",
       " -0.10454252963501012,\n",
       " -0.04643914328483134,\n",
       " 0.9925981432911152)"
      ]
     },
     "execution_count": 7,
     "metadata": {},
     "output_type": "execute_result"
    }
   ],
   "source": [
    "q = orbita3d_controller.get_current_orientation()\n",
    "q"
   ]
  },
  {
   "cell_type": "code",
   "execution_count": 8,
   "metadata": {},
   "outputs": [
    {
     "data": {
      "text/plain": [
       "(np.float64(5.31396256949761),\n",
       " np.float64(-11.75631493050894),\n",
       " np.float64(-5.904795824665887))"
      ]
     },
     "execution_count": 8,
     "metadata": {},
     "output_type": "execute_result"
    }
   ],
   "source": [
    "from scipy.spatial.transform import Rotation\n",
    "\n",
    "roll, pitch, yaw = Rotation.from_quat(q).as_euler('xyz', degrees=True)\n",
    "roll, pitch, yaw"
   ]
  },
  {
   "cell_type": "markdown",
   "metadata": {},
   "source": [
    "You can also set the target orientation using the `set_target_orientation` method. It takes a quaternion (qx, qy, qz, qw) as argument.\n",
    "\n",
    "_Make sure to first enable the torque before setting the target orientation, otherwise your Orbita3d won't move._"
   ]
  },
  {
   "cell_type": "code",
   "execution_count": 9,
   "metadata": {},
   "outputs": [],
   "source": [
    "orbita3d_controller.enable_torque(reset_target=True)"
   ]
  },
  {
   "cell_type": "code",
   "execution_count": 10,
   "metadata": {},
   "outputs": [
    {
     "name": "stdout",
     "output_type": "stream",
     "text": [
      "[ 0.07101948 -0.08688248  0.26176713  0.95858523]\n",
      "Target: [ 0.07101948 -0.08688248  0.26176713  0.95858523] - Current: (0.0407433350158708, -0.10453702797727273, -0.0463705204426533, 0.9926035287401214)\n",
      "[ 0.09108639 -0.06554084  0.50094774  0.85817191]\n",
      "Target: [ 0.09108639 -0.06554084  0.50094774  0.85817191] - Current: (0.07106671552490945, -0.08692949820252852, 0.2619466757781423, 0.9585284155076149)\n",
      "[ 0.10494591 -0.0397327   0.7059896   0.69927559]\n",
      "Target: [ 0.10494591 -0.0397327   0.7059896   0.69927559] - Current: (0.09103715675098768, -0.06552714520874926, 0.5012467631764369, 0.858003561610692)\n",
      "[ 0.09108639 -0.06554084  0.50094774  0.85817191]\n",
      "Target: [ 0.09108639 -0.06554084  0.50094774  0.85817191] - Current: (0.1049059251091043, -0.039719315094160296, 0.7061416213325513, 0.6991288389898459)\n",
      "[ 0.07101948 -0.08688248  0.26176713  0.95858523]\n",
      "Target: [ 0.07101948 -0.08688248  0.26176713  0.95858523] - Current: (0.09105215051555528, -0.06552997225544806, 0.500882843780149, 0.8582142538022796)\n",
      "[ 0.04611271 -0.10230323  0.00474752  0.99367255]\n",
      "Target: [ 0.04611271 -0.10230323  0.00474752  0.99367255] - Current: (0.07105249874046392, -0.08681022073864024, 0.26183267523820236, 0.9585714257037139)\n"
     ]
    }
   ],
   "source": [
    "# Let's move the robot to a new orientation\n",
    "# By setting its yaw to 30, 60, 90 degrees and back\n",
    "\n",
    "import time\n",
    "\n",
    "for yaw in [30, 60, 90, 60, 30, 0]:\n",
    "    target = Rotation.from_euler('xyz', [roll, pitch, yaw], degrees=True).as_quat()\n",
    "    print(target)\n",
    "    #orbita3d_controller.set_target_orientation(target)\n",
    "    fb=orbita3d_controller.set_target_orientation_fb(target)\n",
    "    time.sleep(1)\n",
    "    #current = orbita3d_controller.get_current_orientation()\n",
    "    print(f\"Target: {target} - Current: {fb}\")"
   ]
  },
  {
   "cell_type": "code",
   "execution_count": 13,
   "metadata": {},
   "outputs": [
    {
     "name": "stdout",
     "output_type": "stream",
     "text": [
      "[ 0.10483902 -0.23176772  0.02513326  0.96677858]\n",
      "Target: [ 0.10483902 -0.23176772  0.02513326  0.96677858] - Current: (0.1610685133477313, -0.19680648388394395, 0.27425332490544185, 0.9274207543976469)\n"
     ]
    }
   ],
   "source": [
    "# Let's move the robot to a new orientation\n",
    "# By setting its yaw to 30, 60, 90 degrees and back\n",
    "\n",
    "import time\n",
    "\n",
    "for yaw in [0]:\n",
    "    target = Rotation.from_euler('xyz', [roll, pitch, yaw], degrees=True).as_quat()\n",
    "    print(target)\n",
    "    orbita3d_controller.set_target_orientation(target)\n",
    "    #fb=orbita3d_controller.set_target_orientation_fb(target)\n",
    "    time.sleep(1)\n",
    "    #current = orbita3d_controller.get_current_orientation()\n",
    "    print(f\"Target: {target} - Current: {fb}\")"
   ]
  },
  {
   "cell_type": "markdown",
   "metadata": {},
   "source": [
    "We can also play a more complex trajectory and record the current orientation at each step."
   ]
  },
  {
   "cell_type": "code",
   "execution_count": 11,
   "metadata": {},
   "outputs": [],
   "source": [
    "import numpy as np\n",
    "\n",
    "dur = 10\n",
    "\n",
    "pitch_sin_f = 0.25\n",
    "pitch_sin_amp = 30\n",
    "\n",
    "yaw_sin_f = 0.5\n",
    "yaw_sin_amp = 60\n",
    "\n",
    "data = []\n",
    "\n",
    "t0 = time.time()\n",
    "while time.time() - t0 < dur:\n",
    "    t = time.time() - t0\n",
    "\n",
    "    roll = 0.0\n",
    "    pitch = pitch_sin_amp * np.sin(2 * np.pi * pitch_sin_f * t)\n",
    "    yaw = yaw_sin_amp * np.sin(2 * np.pi * yaw_sin_f * t)\n",
    "\n",
    "    target = Rotation.from_euler('xyz', [roll, pitch, yaw], degrees=True).as_quat()\n",
    "    orbita3d_controller.set_target_orientation(target)\n",
    "    time.sleep(0.01)\n",
    "\n",
    "    current = orbita3d_controller.get_current_orientation()\n",
    "    data.append(current)"
   ]
  },
  {
   "cell_type": "markdown",
   "metadata": {},
   "source": [
    "Using matplotlib, let's have a look at our trajectory."
   ]
  },
  {
   "cell_type": "code",
   "execution_count": 12,
   "metadata": {},
   "outputs": [
    {
     "data": {
      "text/plain": [
       "<matplotlib.legend.Legend at 0x7727591f9cf0>"
      ]
     },
     "execution_count": 12,
     "metadata": {},
     "output_type": "execute_result"
    },
    {
     "data": {
      "image/png": "[encoded data removed]",
      "text/plain": [
       "<Figure size 640x480 with 1 Axes>"
      ]
     },
     "metadata": {},
     "output_type": "display_data"
    }
   ],
   "source": [
    "import matplotlib.pyplot as plt\n",
    "\n",
    "roll, pitch, yaw = Rotation.from_quat(data).as_euler('xyz', degrees=True).T\n",
    "\n",
    "plt.figure()\n",
    "plt.plot(roll, label=\"roll\")\n",
    "plt.plot(pitch, label=\"pitch\")\n",
    "plt.plot(yaw, label=\"yaw\")\n",
    "plt.legend()\n"
   ]
  },
  {
   "cell_type": "markdown",
   "metadata": {},
   "source": [
    "You can also access the velocity and torque using respectively the `get_current_velocity` and `get_current_torque` methods.\n",
    "\n",
    "### Extra parameters\n",
    "\n",
    "There are some extra parameters that you can access. **In opposition to the other values, those parameters impact directly the raw motor on not the actuator!**\n",
    "\n",
    "You can access:\n",
    "* the velocity limit using the `get_raw_motors_velocity_limit` and `set_raw_motors_velocity_limit` methods\n",
    "* the torque limit using the `get_raw_motors_torque_limit` and `set_raw_motors_torque_limit` methods\n",
    "* the pid gains using the `get_raw_motors_pid_gains` and `set_raw_motors_pid_gains` methods"
   ]
  },
  {
   "cell_type": "code",
   "execution_count": 18,
   "metadata": {},
   "outputs": [
    {
     "data": {
      "text/plain": [
       "(1.0, 1.0, 1.0)"
      ]
     },
     "execution_count": 18,
     "metadata": {},
     "output_type": "execute_result"
    }
   ],
   "source": [
    "orbita3d_controller.get_raw_motors_velocity_limit()"
   ]
  },
  {
   "cell_type": "code",
   "execution_count": 19,
   "metadata": {},
   "outputs": [
    {
     "data": {
      "text/plain": [
       "(1.0, 1.0, 1.0)"
      ]
     },
     "execution_count": 19,
     "metadata": {},
     "output_type": "execute_result"
    }
   ],
   "source": [
    "orbita3d_controller.get_raw_motors_torque_limit()"
   ]
  },
  {
   "cell_type": "code",
   "execution_count": 20,
   "metadata": {},
   "outputs": [
    {
     "data": {
      "text/plain": [
       "0.0"
      ]
     },
     "execution_count": 20,
     "metadata": {},
     "output_type": "execute_result"
    }
   ],
   "source": [
    "pids=orbita3d_controller.get_raw_motors_pid_gains()\n",
    "pids[0][0]"
   ]
  },
  {
   "cell_type": "code",
   "execution_count": 3,
   "metadata": {},
   "outputs": [
    {
     "ename": "AttributeError",
     "evalue": "cffi library '/home/reachy/reachy_ws/src/orbita3d_control/orbita3d_c_api/python/orbita3d/_orbita3d/lib_orbita3d.so' has no function, constant or global variable named 'orbita3d_get_raw_motors_torque'",
     "output_type": "error",
     "traceback": [
      "\u001b[0;31m---------------------------------------------------------------------------\u001b[0m",
      "\u001b[0;31mAttributeError\u001b[0m                            Traceback (most recent call last)",
      "Cell \u001b[0;32mIn[3], line 1\u001b[0m\n\u001b[0;32m----> 1\u001b[0m \u001b[43morbita3d_controller\u001b[49m\u001b[38;5;241;43m.\u001b[39;49m\u001b[43mget_raw_motors_current\u001b[49m\u001b[43m(\u001b[49m\u001b[43m)\u001b[49m\n",
      "File \u001b[0;32m~/reachy_ws/src/orbita3d_control/orbita3d_c_api/python/orbita3d/__init__.py:431\u001b[0m, in \u001b[0;36mOrbita3dController.get_raw_motors_current\u001b[0;34m(self)\u001b[0m\n\u001b[1;32m    423\u001b[0m \u001b[38;5;250m\u001b[39m\u001b[38;5;124;03m\"\"\"Get the raw motors torque.\u001b[39;00m\n\u001b[1;32m    424\u001b[0m \n\u001b[1;32m    425\u001b[0m \u001b[38;5;124;03mBe carfeful, this is not the end-effector torque. But this is the raw torque of the disks!\u001b[39;00m\n\u001b[0;32m   (...)\u001b[0m\n\u001b[1;32m    428\u001b[0m \u001b[38;5;124;03m    The raw motors torque (in Newton meters).\u001b[39;00m\n\u001b[1;32m    429\u001b[0m \u001b[38;5;124;03m\"\"\"\u001b[39;00m\n\u001b[1;32m    430\u001b[0m torque \u001b[38;5;241m=\u001b[39m ffi\u001b[38;5;241m.\u001b[39mnew(\u001b[38;5;124m\"\u001b[39m\u001b[38;5;124mdouble(*)[3]\u001b[39m\u001b[38;5;124m\"\u001b[39m)\n\u001b[0;32m--> 431\u001b[0m check(\u001b[43mlib\u001b[49m\u001b[38;5;241;43m.\u001b[39;49m\u001b[43morbita3d_get_raw_motors_torque\u001b[49m(\u001b[38;5;28mself\u001b[39m\u001b[38;5;241m.\u001b[39muid, torque))\n\u001b[1;32m    432\u001b[0m \u001b[38;5;28;01mreturn\u001b[39;00m \u001b[38;5;28mtuple\u001b[39m(torque[\u001b[38;5;241m0\u001b[39m])\n",
      "\u001b[0;31mAttributeError\u001b[0m: cffi library '/home/reachy/reachy_ws/src/orbita3d_control/orbita3d_c_api/python/orbita3d/_orbita3d/lib_orbita3d.so' has no function, constant or global variable named 'orbita3d_get_raw_motors_torque'"
     ]
    }
   ],
   "source": [
    "orbita3d_controller.get_raw_motors_current()"
   ]
  },
  {
   "cell_type": "code",
   "execution_count": null,
   "metadata": {},
   "outputs": [],
   "source": []
  }
 ],
 "metadata": {
  "kernelspec": {
   "display_name": "Python 3 (ipykernel)",
   "language": "python",
   "name": "python3"
  },
  "language_info": {
   "codemirror_mode": {
    "name": "ipython",
    "version": 3
   },
   "file_extension": ".py",
   "mimetype": "text/x-python",
   "name": "python",
   "nbconvert_exporter": "python",
   "pygments_lexer": "ipython3",
   "version": "3.10.12"
  }
 },
 "nbformat": 4,
 "nbformat_minor": 4
}
