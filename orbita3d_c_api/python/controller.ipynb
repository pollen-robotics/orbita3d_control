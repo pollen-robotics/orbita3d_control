{
 "cells": [
  {
   "cell_type": "markdown",
   "metadata": {},
   "source": [
    "# Orbita3d Controller API example\n",
    "\n",
    "## Installation\n",
    "\n",
    "The easiest way to install the Orbita3d Controller API is via the `maturin develop` command from the `orbita3d_c_api` folder.\n",
    "\n",
    "Please refer to [their documentation](https://www.maturin.rs/) for more information.\n"
   ]
  },
  {
   "cell_type": "markdown",
   "metadata": {},
   "source": [
    "To check the install, simply run the following cell:"
   ]
  },
  {
   "cell_type": "code",
   "execution_count": 1,
   "metadata": {},
   "outputs": [],
   "source": [
    "from orbita3d import Orbita3dController"
   ]
  },
  {
   "cell_type": "markdown",
   "metadata": {},
   "source": [
    "You can create a new controller using the from_config method.\n",
    "\n",
    "Configuration examples can be found in [the orbita3d_controller pacakge](https://github.com/pollen-robotics/orbita3d_control/tree/develop/orbita3d_controller/config)."
   ]
  },
  {
   "cell_type": "code",
   "execution_count": 2,
   "metadata": {},
   "outputs": [],
   "source": [
    "# Replace the path with the path to your config file\n",
    "config = \"/home/prod/dev_iwrist/orbita3d_control/orbita3d_controller/config/dxl_iwrist.yaml\"\n",
    "\n",
    "orbita3d_controller = Orbita3dController.from_config(config)"
   ]
  },
  {
   "cell_type": "markdown",
   "metadata": {},
   "source": [
    "## Control your Orbita3d\n",
    "\n",
    "### Enable/disable the torque\n",
    "\n",
    "You can enable the torque using the `enable_torque` method. It also takes a `reset_target` argument that will reset the target position to the current position."
   ]
  },
  {
   "cell_type": "code",
   "execution_count": 3,
   "metadata": {},
   "outputs": [],
   "source": [
    "orbita3d_controller.enable_torque(reset_target=True)"
   ]
  },
  {
   "cell_type": "markdown",
   "metadata": {},
   "source": [
    "You can now check that the torque was enabled by calling the `is_torque_on` method."
   ]
  },
  {
   "cell_type": "code",
   "execution_count": null,
   "metadata": {},
   "outputs": [],
   "source": [
    "orbita3d_controller.is_torque_on()"
   ]
  },
  {
   "cell_type": "markdown",
   "metadata": {},
   "source": [
    "And now, you can disable the torque using the `disable_torque` method."
   ]
  },
  {
   "cell_type": "code",
   "execution_count": null,
   "metadata": {},
   "outputs": [],
   "source": [
    "orbita3d_controller.disable_torque()"
   ]
  },
  {
   "cell_type": "markdown",
   "metadata": {},
   "source": [
    "Let's check that the torque is off."
   ]
  },
  {
   "cell_type": "code",
   "execution_count": null,
   "metadata": {},
   "outputs": [],
   "source": [
    "orbita3d_controller.is_torque_on()"
   ]
  },
  {
   "cell_type": "markdown",
   "metadata": {},
   "source": [
    "### Read and set orientation\n",
    "\n",
    "To read the current orientation, you can use the `get_current_orientation` method. It returns a quaternion (qx, qy, qz, qw).\n",
    "\n",
    "_Note that you can use the [Rotation](https://docs.scipy.org/doc/scipy/reference/generated/scipy.spatial.transform.Rotation.html) module from the scipy library to convert the quaternion to a rotation matrix or euler angles._"
   ]
  },
  {
   "cell_type": "code",
   "execution_count": 4,
   "metadata": {},
   "outputs": [
    {
     "data": {
      "text/plain": [
       "(-0.08919770630298376,\n",
       " 0.023292405485376273,\n",
       " -0.012345987509610643,\n",
       " 0.9956650087400903)"
      ]
     },
     "execution_count": 4,
     "metadata": {},
     "output_type": "execute_result"
    }
   ],
   "source": [
    "q = orbita3d_controller.get_current_orientation()\n",
    "q"
   ]
  },
  {
   "cell_type": "code",
   "execution_count": 5,
   "metadata": {},
   "outputs": [
    {
     "data": {
      "text/plain": [
       "(-10.274911230350275, 2.532174599795125, -1.6485287036830465)"
      ]
     },
     "execution_count": 5,
     "metadata": {},
     "output_type": "execute_result"
    }
   ],
   "source": [
    "from scipy.spatial.transform import Rotation\n",
    "\n",
    "roll, pitch, yaw = Rotation.from_quat(q).as_euler('xyz', degrees=True)\n",
    "roll, pitch, yaw"
   ]
  },
  {
   "cell_type": "markdown",
   "metadata": {},
   "source": [
    "You can also set the target orientation using the `set_target_orientation` method. It takes a quaternion (qx, qy, qz, qw) as argument.\n",
    "\n",
    "_Make sure to first enable the torque before setting the target orientation, otherwise your Orbita3d won't move._"
   ]
  },
  {
   "cell_type": "code",
   "execution_count": null,
   "metadata": {},
   "outputs": [],
   "source": [
    "orbita3d_controller.enable_torque(reset_target=True)"
   ]
  },
  {
   "cell_type": "code",
   "execution_count": 7,
   "metadata": {},
   "outputs": [
    {
     "name": "stdout",
     "output_type": "stream",
     "text": [
      "[-0.0921689  -0.00191343  0.25962751  0.96129849]\n"
     ]
    },
    {
     "ename": "TypeError",
     "evalue": "initializer for ctype 'double(*)[4]' must be a pointer to same type, not cdata 'double(*)[10]'",
     "output_type": "error",
     "traceback": [
      "\u001b[0;31m---------------------------------------------------------------------------\u001b[0m",
      "\u001b[0;31mTypeError\u001b[0m                                 Traceback (most recent call last)",
      "Cell \u001b[0;32mIn[7], line 10\u001b[0m\n\u001b[1;32m      8\u001b[0m \u001b[38;5;28mprint\u001b[39m(target)\n\u001b[1;32m      9\u001b[0m \u001b[38;5;66;03m#orbita3d_controller.set_target_orientation(target)\u001b[39;00m\n\u001b[0;32m---> 10\u001b[0m fb\u001b[38;5;241m=\u001b[39m\u001b[43morbita3d_controller\u001b[49m\u001b[38;5;241;43m.\u001b[39;49m\u001b[43mset_target_orientation_fb\u001b[49m\u001b[43m(\u001b[49m\u001b[43mtarget\u001b[49m\u001b[43m)\u001b[49m\n\u001b[1;32m     11\u001b[0m time\u001b[38;5;241m.\u001b[39msleep(\u001b[38;5;241m1\u001b[39m)\n\u001b[1;32m     12\u001b[0m \u001b[38;5;66;03m#current = orbita3d_controller.get_current_orientation()\u001b[39;00m\n",
      "File \u001b[0;32m~/dev_iwrist/orbita3d_control/orbita3d_c_api/python/orbita3d/__init__.py:271\u001b[0m, in \u001b[0;36mOrbita3dController.set_target_orientation_fb\u001b[0;34m(self, q)\u001b[0m\n\u001b[1;32m    269\u001b[0m q \u001b[38;5;241m=\u001b[39m ffi\u001b[38;5;241m.\u001b[39mnew(\u001b[38;5;124m\"\u001b[39m\u001b[38;5;124mdouble(*)[4]\u001b[39m\u001b[38;5;124m\"\u001b[39m, \u001b[38;5;28mtuple\u001b[39m(q))\n\u001b[1;32m    270\u001b[0m fb \u001b[38;5;241m=\u001b[39m ffi\u001b[38;5;241m.\u001b[39mnew(\u001b[38;5;124m\"\u001b[39m\u001b[38;5;124mdouble(*)[10]\u001b[39m\u001b[38;5;124m\"\u001b[39m)\n\u001b[0;32m--> 271\u001b[0m check(\u001b[43mlib\u001b[49m\u001b[38;5;241;43m.\u001b[39;49m\u001b[43morbita3d_set_target_orientation_fb\u001b[49m\u001b[43m(\u001b[49m\u001b[38;5;28;43mself\u001b[39;49m\u001b[38;5;241;43m.\u001b[39;49m\u001b[43muid\u001b[49m\u001b[43m,\u001b[49m\u001b[43m \u001b[49m\u001b[43mq\u001b[49m\u001b[43m,\u001b[49m\u001b[43m \u001b[49m\u001b[43mfb\u001b[49m\u001b[43m)\u001b[49m)\n\u001b[1;32m    272\u001b[0m \u001b[38;5;28;01mreturn\u001b[39;00m \u001b[38;5;28mtuple\u001b[39m(fb[\u001b[38;5;241m0\u001b[39m])\n",
      "\u001b[0;31mTypeError\u001b[0m: initializer for ctype 'double(*)[4]' must be a pointer to same type, not cdata 'double(*)[10]'"
     ]
    }
   ],
   "source": [
    "# Let's move the robot to a new orientation\n",
    "# By setting its yaw to 30, 60, 90 degrees and back\n",
    "\n",
    "import time\n",
    "\n",
    "for yaw in [30, 60, 90, 60, 30, 0]:\n",
    "    target = Rotation.from_euler('xyz', [roll, pitch, yaw], degrees=True).as_quat()\n",
    "    print(target)\n",
    "    #orbita3d_controller.set_target_orientation(target)\n",
    "    fb=orbita3d_controller.set_target_orientation_fb(target)\n",
    "    time.sleep(1)\n",
    "    #current = orbita3d_controller.get_current_orientation()\n",
    "    print(f\"Target: {target} - Current: {fb}\")"
   ]
  },
  {
   "cell_type": "code",
   "execution_count": 8,
   "metadata": {},
   "outputs": [
    {
     "name": "stdout",
     "output_type": "stream",
     "text": [
      "[-0.08952355  0.02200683  0.00197856  0.99573958]\n"
     ]
    },
    {
     "ename": "NameError",
     "evalue": "name 'fb' is not defined",
     "output_type": "error",
     "traceback": [
      "\u001b[0;31m---------------------------------------------------------------------------\u001b[0m",
      "\u001b[0;31mNameError\u001b[0m                                 Traceback (most recent call last)",
      "Cell \u001b[0;32mIn[8], line 13\u001b[0m\n\u001b[1;32m     11\u001b[0m time\u001b[38;5;241m.\u001b[39msleep(\u001b[38;5;241m1\u001b[39m)\n\u001b[1;32m     12\u001b[0m \u001b[38;5;66;03m#current = orbita3d_controller.get_current_orientation()\u001b[39;00m\n\u001b[0;32m---> 13\u001b[0m \u001b[38;5;28mprint\u001b[39m(\u001b[38;5;124mf\u001b[39m\u001b[38;5;124m\"\u001b[39m\u001b[38;5;124mTarget: \u001b[39m\u001b[38;5;132;01m{\u001b[39;00mtarget\u001b[38;5;132;01m}\u001b[39;00m\u001b[38;5;124m - Current: \u001b[39m\u001b[38;5;132;01m{\u001b[39;00mfb\u001b[38;5;132;01m}\u001b[39;00m\u001b[38;5;124m\"\u001b[39m)\n",
      "\u001b[0;31mNameError\u001b[0m: name 'fb' is not defined"
     ]
    }
   ],
   "source": [
    "# Let's move the robot to a new orientation\n",
    "# By setting its yaw to 30, 60, 90 degrees and back\n",
    "\n",
    "import time\n",
    "\n",
    "for yaw in [0]:\n",
    "    target = Rotation.from_euler('xyz', [roll, pitch, yaw], degrees=True).as_quat()\n",
    "    print(target)\n",
    "    orbita3d_controller.set_target_orientation(target)\n",
    "    #fb=orbita3d_controller.set_target_orientation_fb(target)\n",
    "    time.sleep(1)\n",
    "    #current = orbita3d_controller.get_current_orientation()\n",
    "    print(f\"Target: {target} - Current: {fb}\")"
   ]
  },
  {
   "cell_type": "markdown",
   "metadata": {},
   "source": [
    "We can also play a more complex trajectory and record the current orientation at each step."
   ]
  },
  {
   "cell_type": "code",
   "execution_count": null,
   "metadata": {},
   "outputs": [],
   "source": [
    "import numpy as np\n",
    "\n",
    "dur = 10\n",
    "\n",
    "pitch_sin_f = 0.25\n",
    "pitch_sin_amp = 30\n",
    "\n",
    "yaw_sin_f = 0.5\n",
    "yaw_sin_amp = 60\n",
    "\n",
    "data = []\n",
    "\n",
    "t0 = time.time()\n",
    "while time.time() - t0 < dur:\n",
    "    t = time.time() - t0\n",
    "\n",
    "    roll = 0.0\n",
    "    pitch = pitch_sin_amp * np.sin(2 * np.pi * pitch_sin_f * t)\n",
    "    yaw = yaw_sin_amp * np.sin(2 * np.pi * yaw_sin_f * t)\n",
    "\n",
    "    target = Rotation.from_euler('xyz', [roll, pitch, yaw], degrees=True).as_quat()\n",
    "    orbita3d_controller.set_target_orientation(target)\n",
    "    time.sleep(0.01)\n",
    "\n",
    "    current = orbita3d_controller.get_current_orientation()\n",
    "    data.append(current)"
   ]
  },
  {
   "cell_type": "markdown",
   "metadata": {},
   "source": [
    "Using matplotlib, let's have a look at our trajectory."
   ]
  },
  {
   "cell_type": "code",
   "execution_count": null,
   "metadata": {},
   "outputs": [],
   "source": [
    "import matplotlib.pyplot as plt\n",
    "\n",
    "roll, pitch, yaw = Rotation.from_quat(data).as_euler('xyz', degrees=True).T\n",
    "\n",
    "plt.figure()\n",
    "plt.plot(roll, label=\"roll\")\n",
    "plt.plot(pitch, label=\"pitch\")\n",
    "plt.plot(yaw, label=\"yaw\")\n",
    "plt.legend()\n"
   ]
  },
  {
   "cell_type": "markdown",
   "metadata": {},
   "source": [
    "You can also access the velocity and torque using respectively the `get_current_velocity` and `get_current_torque` methods.\n",
    "\n",
    "### Extra parameters\n",
    "\n",
    "There are some extra parameters that you can access. **In opposition to the other values, those parameters impact directly the raw motor on not the actuator!**\n",
    "\n",
    "You can access:\n",
    "* the velocity limit using the `get_raw_motors_velocity_limit` and `set_raw_motors_velocity_limit` methods\n",
    "* the torque limit using the `get_raw_motors_torque_limit` and `set_raw_motors_torque_limit` methods\n",
    "* the pid gains using the `get_raw_motors_pid_gains` and `set_raw_motors_pid_gains` methods"
   ]
  },
  {
   "cell_type": "code",
   "execution_count": null,
   "metadata": {},
   "outputs": [],
   "source": [
    "orbita3d_controller.get_raw_motors_velocity_limit()"
   ]
  },
  {
   "cell_type": "code",
   "execution_count": null,
   "metadata": {},
   "outputs": [],
   "source": [
    "orbita3d_controller.get_raw_motors_torque_limit()"
   ]
  },
  {
   "cell_type": "code",
   "execution_count": null,
   "metadata": {},
   "outputs": [],
   "source": [
    "pids=orbita3d_controller.get_raw_motors_pid_gains()\n",
    "pids[0][0]"
   ]
  },
  {
   "cell_type": "markdown",
   "metadata": {},
   "source": []
  }
 ],
 "metadata": {
  "kernelspec": {
   "display_name": "Python 3 (ipykernel)",
   "language": "python",
   "name": "python3"
  },
  "language_info": {
   "codemirror_mode": {
    "name": "ipython",
    "version": 3
   },
   "file_extension": ".py",
   "mimetype": "text/x-python",
   "name": "python",
   "nbconvert_exporter": "python",
   "pygments_lexer": "ipython3",
   "version": "3.8.10"
  }
 },
 "nbformat": 4,
 "nbformat_minor": 4
}
