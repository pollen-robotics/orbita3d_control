{
 "cells": [
  {
   "cell_type": "markdown",
   "metadata": {},
   "source": [
    "# Orbita3d Controller API example\n",
    "\n",
    "## Installation\n",
    "\n",
    "The easiest way to install the Orbita3d Controller API is via the `maturin develop` command from the `orbita3d_c_api` folder.\n",
    "\n",
    "Please refer to [their documentation](https://www.maturin.rs/) for more information.\n"
   ]
  },
  {
   "cell_type": "markdown",
   "metadata": {},
   "source": [
    "To check the install, simply run the following cell:"
   ]
  },
  {
   "cell_type": "code",
   "execution_count": null,
   "metadata": {},
   "outputs": [],
   "source": [
    "from orbita3d import Orbita3dController"
   ]
  },
  {
   "cell_type": "markdown",
   "metadata": {},
   "source": [
    "You can create a new controller using the from_config method.\n",
    "\n",
    "Configuration examples can be found in [the orbita3d_controller pacakge](https://github.com/pollen-robotics/orbita3d_control/tree/develop/orbita3d_controller/config)."
   ]
  },
  {
   "cell_type": "code",
   "execution_count": null,
   "metadata": {},
   "outputs": [],
   "source": [
    "# Replace the path with the path to your config file\n",
    "config = \"/home/pierre/Dev/orbita3d_control/orbita3d_controller/config/fake.yaml\"\n",
    "\n",
    "orbita3d_controller = Orbita3dController.from_config(config)"
   ]
  },
  {
   "cell_type": "markdown",
   "metadata": {},
   "source": [
    "## Control your Orbita3d\n",
    "\n",
    "### Enable/disable the torque\n",
    "\n",
    "You can enable the torque using the `enable_torque` method. It also takes a `reset_target` argument that will reset the target position to the current position."
   ]
  },
  {
   "cell_type": "code",
   "execution_count": null,
   "metadata": {},
   "outputs": [],
   "source": [
    "orbita3d_controller.enable_torque(reset_target=True)"
   ]
  },
  {
   "cell_type": "markdown",
   "metadata": {},
   "source": [
    "You can now check that the torque was enabled by calling the `is_torque_on` method."
   ]
  },
  {
   "cell_type": "code",
   "execution_count": null,
   "metadata": {},
   "outputs": [],
   "source": [
    "orbita3d_controller.is_torque_on()"
   ]
  },
  {
   "cell_type": "markdown",
   "metadata": {},
   "source": [
    "And now, you can disable the torque using the `disable_torque` method."
   ]
  },
  {
   "cell_type": "code",
   "execution_count": null,
   "metadata": {},
   "outputs": [],
   "source": [
    "orbita3d_controller.disable_torque()"
   ]
  },
  {
   "cell_type": "markdown",
   "metadata": {},
   "source": [
    "Let's check that the torque is off."
   ]
  },
  {
   "cell_type": "code",
   "execution_count": null,
   "metadata": {},
   "outputs": [],
   "source": [
    "orbita3d_controller.is_torque_on()"
   ]
  },
  {
   "cell_type": "markdown",
   "metadata": {},
   "source": [
    "### Read and set orientation\n",
    "\n",
    "To read the current orientation, you can use the `get_current_orientation` method. It returns a quaternion (qx, qy, qz, qw).\n",
    "\n",
    "_Note that you can use the [Rotation](https://docs.scipy.org/doc/scipy/reference/generated/scipy.spatial.transform.Rotation.html) module from the scipy library to convert the quaternion to a rotation matrix or euler angles._"
   ]
  },
  {
   "cell_type": "code",
   "execution_count": null,
   "metadata": {},
   "outputs": [],
   "source": [
    "q = orbita3d_controller.get_current_orientation()\n",
    "q"
   ]
  },
  {
   "cell_type": "code",
   "execution_count": null,
   "metadata": {},
   "outputs": [],
   "source": [
    "from scipy.spatial.transform import Rotation\n",
    "\n",
    "roll, pitch, yaw = Rotation.from_quat(q).as_euler('xyz', degrees=True)\n",
    "roll, pitch, yaw"
   ]
  },
  {
   "cell_type": "markdown",
   "metadata": {},
   "source": [
    "You can also set the target orientation using the `set_target_orientation` method. It takes a quaternion (qx, qy, qz, qw) as argument.\n",
    "\n",
    "_Make sure to first enable the torque before setting the target orientation, otherwise your Orbita3d won't move._"
   ]
  },
  {
   "cell_type": "code",
   "execution_count": null,
   "metadata": {},
   "outputs": [],
   "source": [
    "orbita3d_controller.enable_torque(reset_target=True)"
   ]
  },
  {
   "cell_type": "code",
   "execution_count": null,
   "metadata": {},
   "outputs": [],
   "source": [
    "# Let's move the robot to a new orientation\n",
    "# By setting its yaw to 30, 60, 90 degrees and back\n",
    "\n",
    "import time\n",
    "\n",
    "for yaw in [30, 60, 90, 60, 30, 0]:\n",
    "    target = Rotation.from_euler('xyz', [roll, pitch, yaw], degrees=True).as_quat()\n",
    "    orbita3d_controller.set_target_orientation(target)\n",
    "    time.sleep(1)\n",
    "\n",
    "    current = orbita3d_controller.get_current_orientation()\n",
    "    print(f\"Target: {target} - Current: {current}\")"
   ]
  },
  {
   "cell_type": "markdown",
   "metadata": {},
   "source": [
    "We can also play a more complex trajectory and record the current orientation at each step."
   ]
  },
  {
   "cell_type": "code",
   "execution_count": null,
   "metadata": {},
   "outputs": [],
   "source": [
    "import numpy as np\n",
    "\n",
    "dur = 10\n",
    "\n",
    "pitch_sin_f = 0.25\n",
    "pitch_sin_amp = 30\n",
    "\n",
    "yaw_sin_f = 0.5\n",
    "yaw_sin_amp = 60\n",
    "\n",
    "data = []\n",
    "\n",
    "t0 = time.time()\n",
    "while time.time() - t0 < dur:\n",
    "    t = time.time() - t0\n",
    "\n",
    "    roll = 0.0\n",
    "    pitch = pitch_sin_amp * np.sin(2 * np.pi * pitch_sin_f * t)\n",
    "    yaw = yaw_sin_amp * np.sin(2 * np.pi * yaw_sin_f * t)\n",
    "\n",
    "    target = Rotation.from_euler('xyz', [roll, pitch, yaw], degrees=True).as_quat()\n",
    "    orbita3d_controller.set_target_orientation(target)\n",
    "    time.sleep(0.01)\n",
    "\n",
    "    current = orbita3d_controller.get_current_orientation()\n",
    "    data.append(current)"
   ]
  },
  {
   "cell_type": "markdown",
   "metadata": {},
   "source": [
    "Using matplotlib, let's have a look at our trajectory."
   ]
  },
  {
   "cell_type": "code",
   "execution_count": null,
   "metadata": {},
   "outputs": [],
   "source": [
    "import matplotlib.pyplot as plt\n",
    "\n",
    "roll, pitch, yaw = Rotation.from_quat(data).as_euler('xyz', degrees=True).T\n",
    "\n",
    "plt.figure()\n",
    "plt.plot(roll, label=\"roll\")\n",
    "plt.plot(pitch, label=\"pitch\")\n",
    "plt.plot(yaw, label=\"yaw\")\n",
    "plt.legend()\n"
   ]
  },
  {
   "cell_type": "markdown",
   "metadata": {},
   "source": [
    "You can also access the velocity and torque using respectively the `get_current_velocity` and `get_current_torque` methods.\n",
    "\n",
    "### Extra parameters\n",
    "\n",
    "There are some extra parameters that you can access. **In opposition to the other values, those parameters impact directly the raw motor on not the actuator!**\n",
    "\n",
    "You can access:\n",
    "* the velocity limit using the `get_raw_motors_velocity_limit` and `set_raw_motors_velocity_limit` methods\n",
    "* the torque limit using the `get_raw_motors_torque_limit` and `set_raw_motors_torque_limit` methods\n",
    "* the pid gains using the `get_raw_motors_pid_gains` and `set_raw_motors_pid_gains` methods"
   ]
  },
  {
   "cell_type": "markdown",
   "metadata": {},
   "source": []
  }
 ],
 "metadata": {
  "kernelspec": {
   "display_name": "orbita3d",
   "language": "python",
   "name": "python3"
  },
  "language_info": {
   "codemirror_mode": {
    "name": "ipython",
    "version": 3
   },
   "file_extension": ".py",
   "mimetype": "text/x-python",
   "name": "python",
   "nbconvert_exporter": "python",
   "pygments_lexer": "ipython3",
   "version": "3.10.12"
  },
  "orig_nbformat": 4
 },
 "nbformat": 4,
 "nbformat_minor": 2
}
