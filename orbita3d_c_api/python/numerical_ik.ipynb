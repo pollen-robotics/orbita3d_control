{
 "cells": [
  {
   "cell_type": "markdown",
   "id": "3c99fe8d-2003-469b-8df0-e7acfe08545e",
   "metadata": {},
   "source": [
    "# Iterative IK example\n",
    "\n",
    "Traditional approach to the inverse kinematics resolution using the Jacobina $J$ approach. \n",
    "\n",
    "Ginen a target orientation $R_t$, the current platform orientation $R_c$ and the corresponding motor positions $\\theta$.\n",
    "\n",
    "We can calculate the orientation error vector $e = R_cR_t^T$ (if SO3 matrices). Then we can define the velocity $\\dot{e}$ in the orientation space that brings us from the current $R_c$ to the target orientation $R_t$ \n",
    "\n",
    "$$\n",
    "\\dot{e} = \\frac{e}{\\Delta t}\n",
    "$$\n",
    "\n",
    "And then we can calculate the motor velocity $\\dot{\\theta}$ that corresponds to the $\\dot{e}$ that brings us to the target $R_t$ using the Jacobian.\n",
    "\n",
    "$$\n",
    "\\dot{\\theta} = J^{-1}(\\theta) \\dot{e}\n",
    "$$\n",
    "\n",
    "As Jacobian ($J(\\theta)$) is highly dependant on the motor positions $\\theta$ it is common to use a relatively small veclocity $\\dot{e}$ (large $\\Delta t$) in order to make the movement smooth. We can also write the equation in this way:\n",
    "\n",
    "$$\n",
    "\\dot{\\theta} = \\alpha J^{-1}(\\theta)e\n",
    "$$\n",
    "\n",
    "Where $\\alpha$ is typically is small, and correpsonds to $\\alpha = 1/\\Delta t$"
   ]
  },
  {
   "cell_type": "code",
   "execution_count": 1,
   "id": "fb5c4870-5393-4ae5-b030-bd2a5ab86355",
   "metadata": {},
   "outputs": [],
   "source": [
    "import numpy as np\n",
    "import time\n",
    "from poulpe_ethercat_py import PyEthercatServer\n",
    "from orbita3d import Orbita3dController\n",
    "from scipy.spatial.transform import Rotation as R"
   ]
  },
  {
   "cell_type": "code",
   "execution_count": 2,
   "id": "9166da65-64f5-483c-ad25-a86bb31b4f8d",
   "metadata": {},
   "outputs": [
    {
     "name": "stdout",
     "output_type": "stream",
     "text": [
      "POULPE controller ready!\n"
     ]
    }
   ],
   "source": [
    "# Start the EtherCAT master\n",
    "server = PyEthercatServer()\n",
    "server.launch_server(\"../../orbita3d_controller/config/ethercat.yaml\")\n",
    "# give some time for the master to start\n",
    "time.sleep(1)"
   ]
  },
  {
   "cell_type": "code",
   "execution_count": 3,
   "id": "f48b0baa-7da5-4945-b2c4-851eb4eed2f0",
   "metadata": {},
   "outputs": [],
   "source": [
    "# connect to the actuator\n",
    "orbita = Orbita3dController.from_config(\"../../orbita3d_controller/config/ethercat_poulpe.yaml\")"
   ]
  },
  {
   "cell_type": "code",
   "execution_count": 4,
   "id": "a1ad51cf-ac5f-4c92-a4f1-86cfb9d8f5a9",
   "metadata": {},
   "outputs": [],
   "source": [
    "# orbita kinematic model\n",
    "from orbita3d import KinematicsModel\n",
    "kin = KinematicsModel(\n",
    "    alpha=np.deg2rad(54.0),\n",
    "    gamma_min= 0.6981317007977318, # 40 degrees\n",
    "    offset=0.0,\n",
    "    beta=np.deg2rad(90.0),\n",
    "    gamma_max=np.deg2rad(175.0),\n",
    "    passiv_arms_direct=True,\n",
    ")"
   ]
  },
  {
   "cell_type": "code",
   "execution_count": 5,
   "id": "8aa11021-6031-48cf-9180-cd0029407ba4",
   "metadata": {},
   "outputs": [],
   "source": [
    "# disable the actuator\n",
    "orbita.disable_torque()\n",
    "orbita.set_control_mode(3)\n",
    "# enable the actuator\n",
    "orbita.enable_torque(reset_target=True)\n",
    "time.sleep(1)"
   ]
  },
  {
   "cell_type": "markdown",
   "id": "2c83819a-a3c7-4960-ab30-edb16b54c6f6",
   "metadata": {},
   "source": [
    "## The example IK code"
   ]
  },
  {
   "cell_type": "code",
   "execution_count": 18,
   "id": "e09f76f1-26de-4fec-9633-1fbd524d832e",
   "metadata": {},
   "outputs": [
    {
     "name": "stdout",
     "output_type": "stream",
     "text": [
      "target:  [-7.25710743  2.41503319  8.0300826 ] degrees\n",
      "reached:  [-7.21875454  2.37148476  7.9484029 ] degrees\n"
     ]
    }
   ],
   "source": [
    "# target orientation\n",
    "target_rpy = np.random.uniform([-30]*3,[30]*3)\n",
    "\n",
    "# scaling factor \n",
    "alpha = 3.0\n",
    "\n",
    "orbita.enable_torque(reset_target=True)\n",
    "t0 = time.time()\n",
    "while time.time()- t0 < 3:\n",
    "    # current orientation\n",
    "    current_rpy = R.from_quat(orbita.get_current_orientation()).as_euler('xyz',degrees=True)\n",
    "    # orientation error\n",
    "    error = target_rpy - current_rpy\n",
    "    # velocity to go from the current to the taget orentation in 1s (angle-axis representation)\n",
    "    vel = R.from_euler('xyz', error, degrees=True).as_rotvec()\n",
    "    # set the velocity to the motors  motor_vel = J_inv*vel\n",
    "    orbita.set_target_velocity(vel*alpha)\n",
    "    time.sleep(0.005)\n",
    "orbita.set_target_velocity([0]*3)\n",
    "orbita.disable_torque()\n",
    "\n",
    "print(\"target: \", target_rpy, \"degrees\")\n",
    "print(\"reached: \",\n",
    "R.from_quat(orbita.get_current_orientation()).as_euler('xyz', degrees=True), \"degrees\")"
   ]
  },
  {
   "cell_type": "code",
   "execution_count": null,
   "id": "0268f983-dcdf-4523-9cff-b0bbe9a6f6ea",
   "metadata": {},
   "outputs": [],
   "source": []
  }
 ],
 "metadata": {
  "kernelspec": {
   "display_name": "Python 3 (ipykernel)",
   "language": "python",
   "name": "python3"
  },
  "language_info": {
   "codemirror_mode": {
    "name": "ipython",
    "version": 3
   },
   "file_extension": ".py",
   "mimetype": "text/x-python",
   "name": "python",
   "nbconvert_exporter": "python",
   "pygments_lexer": "ipython3",
   "version": "3.10.16"
  }
 },
 "nbformat": 4,
 "nbformat_minor": 5
}
